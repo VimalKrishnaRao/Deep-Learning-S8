{
  "nbformat": 4,
  "nbformat_minor": 0,
  "metadata": {
    "colab": {
      "provenance": [],
      "authorship_tag": "ABX9TyMdBvbkAYZdkf6XKSW3eQoc",
      "include_colab_link": true
    },
    "kernelspec": {
      "name": "python3",
      "display_name": "Python 3"
    },
    "language_info": {
      "name": "python"
    }
  },
  "cells": [
    {
      "cell_type": "markdown",
      "metadata": {
        "id": "view-in-github",
        "colab_type": "text"
      },
      "source": [
        "<a href=\"https://colab.research.google.com/github/Akhil-Krishna/Deep-Learning-Tutorial/blob/main/DeepLearning_Assignment1.ipynb\" target=\"_parent\"><img src=\"https://colab.research.google.com/assets/colab-badge.svg\" alt=\"Open In Colab\"/></a>"
      ]
    },
    {
      "cell_type": "code",
      "execution_count": null,
      "metadata": {
        "id": "B6IKrBx4hqXo"
      },
      "outputs": [],
      "source": []
    },
    {
      "cell_type": "markdown",
      "source": [
        "# Deep Learning Assignment"
      ],
      "metadata": {
        "id": "YAkwwGQMh28n"
      }
    },
    {
      "cell_type": "markdown",
      "source": [
        "### Installation of necessary libraries"
      ],
      "metadata": {
        "id": "l31bOZ4ihw4p"
      }
    },
    {
      "cell_type": "code",
      "source": [
        "!pip install tensorflow\n",
        "!pip install scikit-learn"
      ],
      "metadata": {
        "colab": {
          "base_uri": "https://localhost:8080/"
        },
        "collapsed": true,
        "id": "PFyeuoeHiEts",
        "outputId": "220c0870-0a4e-42a3-d37a-92c496c26782"
      },
      "execution_count": null,
      "outputs": [
        {
          "output_type": "stream",
          "name": "stdout",
          "text": [
            "Requirement already satisfied: tensorflow in /usr/local/lib/python3.11/dist-packages (2.18.0)\n",
            "Requirement already satisfied: absl-py>=1.0.0 in /usr/local/lib/python3.11/dist-packages (from tensorflow) (1.4.0)\n",
            "Requirement already satisfied: astunparse>=1.6.0 in /usr/local/lib/python3.11/dist-packages (from tensorflow) (1.6.3)\n",
            "Requirement already satisfied: flatbuffers>=24.3.25 in /usr/local/lib/python3.11/dist-packages (from tensorflow) (25.2.10)\n",
            "Requirement already satisfied: gast!=0.5.0,!=0.5.1,!=0.5.2,>=0.2.1 in /usr/local/lib/python3.11/dist-packages (from tensorflow) (0.6.0)\n",
            "Requirement already satisfied: google-pasta>=0.1.1 in /usr/local/lib/python3.11/dist-packages (from tensorflow) (0.2.0)\n",
            "Requirement already satisfied: libclang>=13.0.0 in /usr/local/lib/python3.11/dist-packages (from tensorflow) (18.1.1)\n",
            "Requirement already satisfied: opt-einsum>=2.3.2 in /usr/local/lib/python3.11/dist-packages (from tensorflow) (3.4.0)\n",
            "Requirement already satisfied: packaging in /usr/local/lib/python3.11/dist-packages (from tensorflow) (24.2)\n",
            "Requirement already satisfied: protobuf!=4.21.0,!=4.21.1,!=4.21.2,!=4.21.3,!=4.21.4,!=4.21.5,<6.0.0dev,>=3.20.3 in /usr/local/lib/python3.11/dist-packages (from tensorflow) (4.25.6)\n",
            "Requirement already satisfied: requests<3,>=2.21.0 in /usr/local/lib/python3.11/dist-packages (from tensorflow) (2.32.3)\n",
            "Requirement already satisfied: setuptools in /usr/local/lib/python3.11/dist-packages (from tensorflow) (75.1.0)\n",
            "Requirement already satisfied: six>=1.12.0 in /usr/local/lib/python3.11/dist-packages (from tensorflow) (1.17.0)\n",
            "Requirement already satisfied: termcolor>=1.1.0 in /usr/local/lib/python3.11/dist-packages (from tensorflow) (2.5.0)\n",
            "Requirement already satisfied: typing-extensions>=3.6.6 in /usr/local/lib/python3.11/dist-packages (from tensorflow) (4.12.2)\n",
            "Requirement already satisfied: wrapt>=1.11.0 in /usr/local/lib/python3.11/dist-packages (from tensorflow) (1.17.2)\n",
            "Requirement already satisfied: grpcio<2.0,>=1.24.3 in /usr/local/lib/python3.11/dist-packages (from tensorflow) (1.70.0)\n",
            "Requirement already satisfied: tensorboard<2.19,>=2.18 in /usr/local/lib/python3.11/dist-packages (from tensorflow) (2.18.0)\n",
            "Requirement already satisfied: keras>=3.5.0 in /usr/local/lib/python3.11/dist-packages (from tensorflow) (3.8.0)\n",
            "Requirement already satisfied: numpy<2.1.0,>=1.26.0 in /usr/local/lib/python3.11/dist-packages (from tensorflow) (1.26.4)\n",
            "Requirement already satisfied: h5py>=3.11.0 in /usr/local/lib/python3.11/dist-packages (from tensorflow) (3.12.1)\n",
            "Requirement already satisfied: ml-dtypes<0.5.0,>=0.4.0 in /usr/local/lib/python3.11/dist-packages (from tensorflow) (0.4.1)\n",
            "Requirement already satisfied: tensorflow-io-gcs-filesystem>=0.23.1 in /usr/local/lib/python3.11/dist-packages (from tensorflow) (0.37.1)\n",
            "Requirement already satisfied: wheel<1.0,>=0.23.0 in /usr/local/lib/python3.11/dist-packages (from astunparse>=1.6.0->tensorflow) (0.45.1)\n",
            "Requirement already satisfied: rich in /usr/local/lib/python3.11/dist-packages (from keras>=3.5.0->tensorflow) (13.9.4)\n",
            "Requirement already satisfied: namex in /usr/local/lib/python3.11/dist-packages (from keras>=3.5.0->tensorflow) (0.0.8)\n",
            "Requirement already satisfied: optree in /usr/local/lib/python3.11/dist-packages (from keras>=3.5.0->tensorflow) (0.14.0)\n",
            "Requirement already satisfied: charset-normalizer<4,>=2 in /usr/local/lib/python3.11/dist-packages (from requests<3,>=2.21.0->tensorflow) (3.4.1)\n",
            "Requirement already satisfied: idna<4,>=2.5 in /usr/local/lib/python3.11/dist-packages (from requests<3,>=2.21.0->tensorflow) (3.10)\n",
            "Requirement already satisfied: urllib3<3,>=1.21.1 in /usr/local/lib/python3.11/dist-packages (from requests<3,>=2.21.0->tensorflow) (2.3.0)\n",
            "Requirement already satisfied: certifi>=2017.4.17 in /usr/local/lib/python3.11/dist-packages (from requests<3,>=2.21.0->tensorflow) (2025.1.31)\n",
            "Requirement already satisfied: markdown>=2.6.8 in /usr/local/lib/python3.11/dist-packages (from tensorboard<2.19,>=2.18->tensorflow) (3.7)\n",
            "Requirement already satisfied: tensorboard-data-server<0.8.0,>=0.7.0 in /usr/local/lib/python3.11/dist-packages (from tensorboard<2.19,>=2.18->tensorflow) (0.7.2)\n",
            "Requirement already satisfied: werkzeug>=1.0.1 in /usr/local/lib/python3.11/dist-packages (from tensorboard<2.19,>=2.18->tensorflow) (3.1.3)\n",
            "Requirement already satisfied: MarkupSafe>=2.1.1 in /usr/local/lib/python3.11/dist-packages (from werkzeug>=1.0.1->tensorboard<2.19,>=2.18->tensorflow) (3.0.2)\n",
            "Requirement already satisfied: markdown-it-py>=2.2.0 in /usr/local/lib/python3.11/dist-packages (from rich->keras>=3.5.0->tensorflow) (3.0.0)\n",
            "Requirement already satisfied: pygments<3.0.0,>=2.13.0 in /usr/local/lib/python3.11/dist-packages (from rich->keras>=3.5.0->tensorflow) (2.18.0)\n",
            "Requirement already satisfied: mdurl~=0.1 in /usr/local/lib/python3.11/dist-packages (from markdown-it-py>=2.2.0->rich->keras>=3.5.0->tensorflow) (0.1.2)\n",
            "Requirement already satisfied: scikit-learn in /usr/local/lib/python3.11/dist-packages (1.6.1)\n",
            "Requirement already satisfied: numpy>=1.19.5 in /usr/local/lib/python3.11/dist-packages (from scikit-learn) (1.26.4)\n",
            "Requirement already satisfied: scipy>=1.6.0 in /usr/local/lib/python3.11/dist-packages (from scikit-learn) (1.13.1)\n",
            "Requirement already satisfied: joblib>=1.2.0 in /usr/local/lib/python3.11/dist-packages (from scikit-learn) (1.4.2)\n",
            "Requirement already satisfied: threadpoolctl>=3.1.0 in /usr/local/lib/python3.11/dist-packages (from scikit-learn) (3.5.0)\n"
          ]
        }
      ]
    },
    {
      "cell_type": "markdown",
      "source": [
        "### Q1.Implement an MLP with 3 inputs, 2 hidden layers with 4 neurons each and an output layer with 2 neurons.\n",
        "\n",
        "Adopt the following criteria\n",
        "\n",
        "a) Use sigmoid function in all layers.\n",
        "\n",
        "b) Learning rate of 0.1\n",
        "\n",
        "c) SGD with momentum optimizer-0.9\n",
        "\n",
        "d) Loss function is MSE.\n",
        "\n",
        "Train the MLP with 100 random samples for 10 epochs with batch size of 10.\n",
        "\n",
        "Display the weight updates, loss and the accuracy of the model after each epoch. Plot the loss curve.\n"
      ],
      "metadata": {
        "id": "e7SSgR8BiSj3"
      }
    },
    {
      "cell_type": "code",
      "source": [
        "import tensorflow.keras as tf\n",
        "import numpy as np\n",
        "import matplotlib.pyplot as plt\n",
        "\n",
        "\n",
        "#100 samples Binary classification , i used 2 classes\n",
        "np.random.seed(40)\n",
        "X=np.random.rand(100,3)\n",
        "y=np.random.randint(0,2,size=(100,2))\n",
        "\n",
        "#Defining my model\n",
        "model = tf.Sequential([\n",
        "    tf.layers.Dense(4,activation='sigmoid',input_shape=(3,)),\n",
        "    tf.layers.Dense(4,activation='sigmoid'),\n",
        "    tf.layers.Dense(2,activation='sigmoid')\n",
        "])\n",
        "\n",
        "optimizer=tf.optimizers.SGD(learning_rate=0.1,momentum=0.9)\n",
        "model.compile(optimizer=optimizer,loss='mse',metrics=['accuracy'])\n",
        "\n",
        "#training\n",
        "log = model.fit(X,y,epochs=10,batch_size=10,verbose=2)\n",
        "\n",
        "#Display\n",
        "print(\"\\n ===========================================================\")\n",
        "for epoch in range(10):\n",
        "    print(\"Epoch\",epoch+1)\n",
        "    print(\"Weights:\", model.get_weights())\n",
        "    print(\"Loss:\", log.history['loss'][epoch])\n",
        "    print(\"Accuracy:\", log.history['accuracy'][epoch])\n",
        "    print(\"----------------------------------------------------------------------\")\n",
        "print(\" ===========================================================\\n\")\n",
        "#Loss function\n",
        "\n",
        "plt.plot(log.history['loss'])\n",
        "plt.xlabel(\"Epochs\")\n",
        "plt.ylabel('Loss')\n",
        "plt.title(\"Loss Function\")\n",
        "plt.show()\n",
        "\n",
        "\n",
        "\n"
      ],
      "metadata": {
        "colab": {
          "base_uri": "https://localhost:8080/",
          "height": 1000
        },
        "id": "Z1G3LFqmiKcp",
        "outputId": "582f7910-670b-48ca-86b2-3376228060d0"
      },
      "execution_count": 7,
      "outputs": [
        {
          "output_type": "stream",
          "name": "stdout",
          "text": [
            "Epoch 1/10\n"
          ]
        },
        {
          "output_type": "stream",
          "name": "stderr",
          "text": [
            "/usr/local/lib/python3.11/dist-packages/keras/src/layers/core/dense.py:87: UserWarning: Do not pass an `input_shape`/`input_dim` argument to a layer. When using Sequential models, prefer using an `Input(shape)` object as the first layer in the model instead.\n",
            "  super().__init__(activity_regularizer=activity_regularizer, **kwargs)\n"
          ]
        },
        {
          "output_type": "stream",
          "name": "stdout",
          "text": [
            "10/10 - 1s - 85ms/step - accuracy: 0.7800 - loss: 0.2786\n",
            "Epoch 2/10\n",
            "10/10 - 0s - 6ms/step - accuracy: 0.7800 - loss: 0.2503\n",
            "Epoch 3/10\n",
            "10/10 - 0s - 6ms/step - accuracy: 0.7800 - loss: 0.2511\n",
            "Epoch 4/10\n",
            "10/10 - 0s - 6ms/step - accuracy: 0.6300 - loss: 0.2540\n",
            "Epoch 5/10\n",
            "10/10 - 0s - 7ms/step - accuracy: 0.7400 - loss: 0.2501\n",
            "Epoch 6/10\n",
            "10/10 - 0s - 13ms/step - accuracy: 0.7800 - loss: 0.2497\n",
            "Epoch 7/10\n",
            "10/10 - 0s - 6ms/step - accuracy: 0.7800 - loss: 0.2496\n",
            "Epoch 8/10\n",
            "10/10 - 0s - 5ms/step - accuracy: 0.7800 - loss: 0.2510\n",
            "Epoch 9/10\n",
            "10/10 - 0s - 6ms/step - accuracy: 0.7800 - loss: 0.2495\n",
            "Epoch 10/10\n",
            "10/10 - 0s - 6ms/step - accuracy: 0.7800 - loss: 0.2504\n",
            "\n",
            " ===========================================================\n",
            "Epoch 1\n",
            "Weights: [array([[-0.23089938,  0.24226554, -0.7970567 , -0.08916847],\n",
            "       [-0.85106784,  0.69849896, -0.06513762,  0.6346463 ],\n",
            "       [-0.19107838,  0.07771869, -0.19064419, -0.7760558 ]],\n",
            "      dtype=float32), array([-0.02812535, -0.00351223, -0.01698248, -0.02221666], dtype=float32), array([[ 0.16618249,  0.61216587, -0.15207261,  0.6340739 ],\n",
            "       [-0.7475185 ,  0.8020394 , -0.70677   ,  0.5450485 ],\n",
            "       [ 0.06912382,  0.41965544, -0.28980857,  0.306278  ],\n",
            "       [-0.08720386,  0.7094497 , -0.6435366 ,  0.43727535]],\n",
            "      dtype=float32), array([-0.15764555, -0.0386594 ,  0.03003559, -0.10133195], dtype=float32), array([[-0.83050865, -0.61628497],\n",
            "       [-0.22344002,  0.2568235 ],\n",
            "       [ 0.6833647 ,  0.07732037],\n",
            "       [ 0.03821071, -0.68279743]], dtype=float32), array([0.32308778, 0.41033566], dtype=float32)]\n",
            "Loss: 0.27862921357154846\n",
            "Accuracy: 0.7799999713897705\n",
            "----------------------------------------------------------------------\n",
            "Epoch 2\n",
            "Weights: [array([[-0.23089938,  0.24226554, -0.7970567 , -0.08916847],\n",
            "       [-0.85106784,  0.69849896, -0.06513762,  0.6346463 ],\n",
            "       [-0.19107838,  0.07771869, -0.19064419, -0.7760558 ]],\n",
            "      dtype=float32), array([-0.02812535, -0.00351223, -0.01698248, -0.02221666], dtype=float32), array([[ 0.16618249,  0.61216587, -0.15207261,  0.6340739 ],\n",
            "       [-0.7475185 ,  0.8020394 , -0.70677   ,  0.5450485 ],\n",
            "       [ 0.06912382,  0.41965544, -0.28980857,  0.306278  ],\n",
            "       [-0.08720386,  0.7094497 , -0.6435366 ,  0.43727535]],\n",
            "      dtype=float32), array([-0.15764555, -0.0386594 ,  0.03003559, -0.10133195], dtype=float32), array([[-0.83050865, -0.61628497],\n",
            "       [-0.22344002,  0.2568235 ],\n",
            "       [ 0.6833647 ,  0.07732037],\n",
            "       [ 0.03821071, -0.68279743]], dtype=float32), array([0.32308778, 0.41033566], dtype=float32)]\n",
            "Loss: 0.25031864643096924\n",
            "Accuracy: 0.7799999713897705\n",
            "----------------------------------------------------------------------\n",
            "Epoch 3\n",
            "Weights: [array([[-0.23089938,  0.24226554, -0.7970567 , -0.08916847],\n",
            "       [-0.85106784,  0.69849896, -0.06513762,  0.6346463 ],\n",
            "       [-0.19107838,  0.07771869, -0.19064419, -0.7760558 ]],\n",
            "      dtype=float32), array([-0.02812535, -0.00351223, -0.01698248, -0.02221666], dtype=float32), array([[ 0.16618249,  0.61216587, -0.15207261,  0.6340739 ],\n",
            "       [-0.7475185 ,  0.8020394 , -0.70677   ,  0.5450485 ],\n",
            "       [ 0.06912382,  0.41965544, -0.28980857,  0.306278  ],\n",
            "       [-0.08720386,  0.7094497 , -0.6435366 ,  0.43727535]],\n",
            "      dtype=float32), array([-0.15764555, -0.0386594 ,  0.03003559, -0.10133195], dtype=float32), array([[-0.83050865, -0.61628497],\n",
            "       [-0.22344002,  0.2568235 ],\n",
            "       [ 0.6833647 ,  0.07732037],\n",
            "       [ 0.03821071, -0.68279743]], dtype=float32), array([0.32308778, 0.41033566], dtype=float32)]\n",
            "Loss: 0.2511215806007385\n",
            "Accuracy: 0.7799999713897705\n",
            "----------------------------------------------------------------------\n",
            "Epoch 4\n",
            "Weights: [array([[-0.23089938,  0.24226554, -0.7970567 , -0.08916847],\n",
            "       [-0.85106784,  0.69849896, -0.06513762,  0.6346463 ],\n",
            "       [-0.19107838,  0.07771869, -0.19064419, -0.7760558 ]],\n",
            "      dtype=float32), array([-0.02812535, -0.00351223, -0.01698248, -0.02221666], dtype=float32), array([[ 0.16618249,  0.61216587, -0.15207261,  0.6340739 ],\n",
            "       [-0.7475185 ,  0.8020394 , -0.70677   ,  0.5450485 ],\n",
            "       [ 0.06912382,  0.41965544, -0.28980857,  0.306278  ],\n",
            "       [-0.08720386,  0.7094497 , -0.6435366 ,  0.43727535]],\n",
            "      dtype=float32), array([-0.15764555, -0.0386594 ,  0.03003559, -0.10133195], dtype=float32), array([[-0.83050865, -0.61628497],\n",
            "       [-0.22344002,  0.2568235 ],\n",
            "       [ 0.6833647 ,  0.07732037],\n",
            "       [ 0.03821071, -0.68279743]], dtype=float32), array([0.32308778, 0.41033566], dtype=float32)]\n",
            "Loss: 0.25404784083366394\n",
            "Accuracy: 0.6299999952316284\n",
            "----------------------------------------------------------------------\n",
            "Epoch 5\n",
            "Weights: [array([[-0.23089938,  0.24226554, -0.7970567 , -0.08916847],\n",
            "       [-0.85106784,  0.69849896, -0.06513762,  0.6346463 ],\n",
            "       [-0.19107838,  0.07771869, -0.19064419, -0.7760558 ]],\n",
            "      dtype=float32), array([-0.02812535, -0.00351223, -0.01698248, -0.02221666], dtype=float32), array([[ 0.16618249,  0.61216587, -0.15207261,  0.6340739 ],\n",
            "       [-0.7475185 ,  0.8020394 , -0.70677   ,  0.5450485 ],\n",
            "       [ 0.06912382,  0.41965544, -0.28980857,  0.306278  ],\n",
            "       [-0.08720386,  0.7094497 , -0.6435366 ,  0.43727535]],\n",
            "      dtype=float32), array([-0.15764555, -0.0386594 ,  0.03003559, -0.10133195], dtype=float32), array([[-0.83050865, -0.61628497],\n",
            "       [-0.22344002,  0.2568235 ],\n",
            "       [ 0.6833647 ,  0.07732037],\n",
            "       [ 0.03821071, -0.68279743]], dtype=float32), array([0.32308778, 0.41033566], dtype=float32)]\n",
            "Loss: 0.2501268684864044\n",
            "Accuracy: 0.7400000095367432\n",
            "----------------------------------------------------------------------\n",
            "Epoch 6\n",
            "Weights: [array([[-0.23089938,  0.24226554, -0.7970567 , -0.08916847],\n",
            "       [-0.85106784,  0.69849896, -0.06513762,  0.6346463 ],\n",
            "       [-0.19107838,  0.07771869, -0.19064419, -0.7760558 ]],\n",
            "      dtype=float32), array([-0.02812535, -0.00351223, -0.01698248, -0.02221666], dtype=float32), array([[ 0.16618249,  0.61216587, -0.15207261,  0.6340739 ],\n",
            "       [-0.7475185 ,  0.8020394 , -0.70677   ,  0.5450485 ],\n",
            "       [ 0.06912382,  0.41965544, -0.28980857,  0.306278  ],\n",
            "       [-0.08720386,  0.7094497 , -0.6435366 ,  0.43727535]],\n",
            "      dtype=float32), array([-0.15764555, -0.0386594 ,  0.03003559, -0.10133195], dtype=float32), array([[-0.83050865, -0.61628497],\n",
            "       [-0.22344002,  0.2568235 ],\n",
            "       [ 0.6833647 ,  0.07732037],\n",
            "       [ 0.03821071, -0.68279743]], dtype=float32), array([0.32308778, 0.41033566], dtype=float32)]\n",
            "Loss: 0.24974292516708374\n",
            "Accuracy: 0.7799999713897705\n",
            "----------------------------------------------------------------------\n",
            "Epoch 7\n",
            "Weights: [array([[-0.23089938,  0.24226554, -0.7970567 , -0.08916847],\n",
            "       [-0.85106784,  0.69849896, -0.06513762,  0.6346463 ],\n",
            "       [-0.19107838,  0.07771869, -0.19064419, -0.7760558 ]],\n",
            "      dtype=float32), array([-0.02812535, -0.00351223, -0.01698248, -0.02221666], dtype=float32), array([[ 0.16618249,  0.61216587, -0.15207261,  0.6340739 ],\n",
            "       [-0.7475185 ,  0.8020394 , -0.70677   ,  0.5450485 ],\n",
            "       [ 0.06912382,  0.41965544, -0.28980857,  0.306278  ],\n",
            "       [-0.08720386,  0.7094497 , -0.6435366 ,  0.43727535]],\n",
            "      dtype=float32), array([-0.15764555, -0.0386594 ,  0.03003559, -0.10133195], dtype=float32), array([[-0.83050865, -0.61628497],\n",
            "       [-0.22344002,  0.2568235 ],\n",
            "       [ 0.6833647 ,  0.07732037],\n",
            "       [ 0.03821071, -0.68279743]], dtype=float32), array([0.32308778, 0.41033566], dtype=float32)]\n",
            "Loss: 0.2496342808008194\n",
            "Accuracy: 0.7799999713897705\n",
            "----------------------------------------------------------------------\n",
            "Epoch 8\n",
            "Weights: [array([[-0.23089938,  0.24226554, -0.7970567 , -0.08916847],\n",
            "       [-0.85106784,  0.69849896, -0.06513762,  0.6346463 ],\n",
            "       [-0.19107838,  0.07771869, -0.19064419, -0.7760558 ]],\n",
            "      dtype=float32), array([-0.02812535, -0.00351223, -0.01698248, -0.02221666], dtype=float32), array([[ 0.16618249,  0.61216587, -0.15207261,  0.6340739 ],\n",
            "       [-0.7475185 ,  0.8020394 , -0.70677   ,  0.5450485 ],\n",
            "       [ 0.06912382,  0.41965544, -0.28980857,  0.306278  ],\n",
            "       [-0.08720386,  0.7094497 , -0.6435366 ,  0.43727535]],\n",
            "      dtype=float32), array([-0.15764555, -0.0386594 ,  0.03003559, -0.10133195], dtype=float32), array([[-0.83050865, -0.61628497],\n",
            "       [-0.22344002,  0.2568235 ],\n",
            "       [ 0.6833647 ,  0.07732037],\n",
            "       [ 0.03821071, -0.68279743]], dtype=float32), array([0.32308778, 0.41033566], dtype=float32)]\n",
            "Loss: 0.2510072886943817\n",
            "Accuracy: 0.7799999713897705\n",
            "----------------------------------------------------------------------\n",
            "Epoch 9\n",
            "Weights: [array([[-0.23089938,  0.24226554, -0.7970567 , -0.08916847],\n",
            "       [-0.85106784,  0.69849896, -0.06513762,  0.6346463 ],\n",
            "       [-0.19107838,  0.07771869, -0.19064419, -0.7760558 ]],\n",
            "      dtype=float32), array([-0.02812535, -0.00351223, -0.01698248, -0.02221666], dtype=float32), array([[ 0.16618249,  0.61216587, -0.15207261,  0.6340739 ],\n",
            "       [-0.7475185 ,  0.8020394 , -0.70677   ,  0.5450485 ],\n",
            "       [ 0.06912382,  0.41965544, -0.28980857,  0.306278  ],\n",
            "       [-0.08720386,  0.7094497 , -0.6435366 ,  0.43727535]],\n",
            "      dtype=float32), array([-0.15764555, -0.0386594 ,  0.03003559, -0.10133195], dtype=float32), array([[-0.83050865, -0.61628497],\n",
            "       [-0.22344002,  0.2568235 ],\n",
            "       [ 0.6833647 ,  0.07732037],\n",
            "       [ 0.03821071, -0.68279743]], dtype=float32), array([0.32308778, 0.41033566], dtype=float32)]\n",
            "Loss: 0.24952541291713715\n",
            "Accuracy: 0.7799999713897705\n",
            "----------------------------------------------------------------------\n",
            "Epoch 10\n",
            "Weights: [array([[-0.23089938,  0.24226554, -0.7970567 , -0.08916847],\n",
            "       [-0.85106784,  0.69849896, -0.06513762,  0.6346463 ],\n",
            "       [-0.19107838,  0.07771869, -0.19064419, -0.7760558 ]],\n",
            "      dtype=float32), array([-0.02812535, -0.00351223, -0.01698248, -0.02221666], dtype=float32), array([[ 0.16618249,  0.61216587, -0.15207261,  0.6340739 ],\n",
            "       [-0.7475185 ,  0.8020394 , -0.70677   ,  0.5450485 ],\n",
            "       [ 0.06912382,  0.41965544, -0.28980857,  0.306278  ],\n",
            "       [-0.08720386,  0.7094497 , -0.6435366 ,  0.43727535]],\n",
            "      dtype=float32), array([-0.15764555, -0.0386594 ,  0.03003559, -0.10133195], dtype=float32), array([[-0.83050865, -0.61628497],\n",
            "       [-0.22344002,  0.2568235 ],\n",
            "       [ 0.6833647 ,  0.07732037],\n",
            "       [ 0.03821071, -0.68279743]], dtype=float32), array([0.32308778, 0.41033566], dtype=float32)]\n",
            "Loss: 0.25042301416397095\n",
            "Accuracy: 0.7799999713897705\n",
            "----------------------------------------------------------------------\n",
            " ===========================================================\n",
            "\n"
          ]
        },
        {
          "output_type": "display_data",
          "data": {
            "text/plain": [
              "<Figure size 640x480 with 1 Axes>"
            ],
            "image/png": "[encoded data removed]"
          },
          "metadata": {}
        }
      ]
    },
    {
      "cell_type": "markdown",
      "source": [
        "It is better to stop the training at epoch=7\n",
        "At epoch 8 ,model tends to overfit"
      ],
      "metadata": {
        "id": "nmdWzqT6thug"
      }
    },
    {
      "cell_type": "markdown",
      "source": [],
      "metadata": {
        "id": "ZMGpCbQVunet"
      }
    },
    {
      "cell_type": "markdown",
      "source": [
        "### Q2. In the above implementation use a learning rate of 0.01 and print the loss values, accuracy and weight updates. Plot the loss curve. Explain the inference you make from the observations regrading the loss values, accuracy and weight updates"
      ],
      "metadata": {
        "id": "OK8Gi41zt2tA"
      }
    },
    {
      "cell_type": "code",
      "source": [
        "optimizer=tf.optimizers.SGD(learning_rate=0.01,momentum=0.9)\n",
        "model.compile(optimizer=optimizer,loss='mse',metrics=['accuracy'])\n",
        "\n",
        "#training\n",
        "log = model.fit(X,y,epochs=10,batch_size=10,verbose=2)\n",
        "\n",
        "#Display\n",
        "print(\"\\n ===========================================================\")\n",
        "for epoch in range(10):\n",
        "    print(\"Epoch\",epoch+1)\n",
        "    print(\"Weights:\", model.get_weights())\n",
        "    print(\"Loss:\", log.history['loss'][epoch])\n",
        "    print(\"Accuracy:\", log.history['accuracy'][epoch])\n",
        "    print(\"----------------------------------------------------------------------\")\n",
        "print(\" ===========================================================\\n\")\n",
        "#Loss function\n",
        "\n",
        "plt.plot(log.history['loss'])\n",
        "plt.xlabel(\"Epochs\")\n",
        "plt.ylabel('Loss')\n",
        "plt.title(\"Loss Function\")\n",
        "plt.show()\n"
      ],
      "metadata": {
        "colab": {
          "base_uri": "https://localhost:8080/",
          "height": 1000
        },
        "id": "KlY8NiJ0nbFc",
        "outputId": "e0e1cbed-5895-4894-ae2f-9bcce35d9996"
      },
      "execution_count": 8,
      "outputs": [
        {
          "output_type": "stream",
          "name": "stdout",
          "text": [
            "Epoch 1/10\n",
            "10/10 - 1s - 70ms/step - accuracy: 0.7800 - loss: 0.2494\n",
            "Epoch 2/10\n",
            "10/10 - 0s - 6ms/step - accuracy: 0.7800 - loss: 0.2494\n",
            "Epoch 3/10\n",
            "10/10 - 0s - 6ms/step - accuracy: 0.7800 - loss: 0.2493\n",
            "Epoch 4/10\n",
            "10/10 - 0s - 6ms/step - accuracy: 0.7800 - loss: 0.2492\n",
            "Epoch 5/10\n",
            "10/10 - 0s - 6ms/step - accuracy: 0.7800 - loss: 0.2492\n",
            "Epoch 6/10\n",
            "10/10 - 0s - 6ms/step - accuracy: 0.7800 - loss: 0.2493\n",
            "Epoch 7/10\n",
            "10/10 - 0s - 6ms/step - accuracy: 0.7800 - loss: 0.2492\n",
            "Epoch 8/10\n",
            "10/10 - 0s - 13ms/step - accuracy: 0.7800 - loss: 0.2491\n",
            "Epoch 9/10\n",
            "10/10 - 0s - 5ms/step - accuracy: 0.7800 - loss: 0.2492\n",
            "Epoch 10/10\n",
            "10/10 - 0s - 6ms/step - accuracy: 0.7800 - loss: 0.2491\n",
            "\n",
            " ===========================================================\n",
            "Epoch 1\n",
            "Weights: [array([[-0.2312533 ,  0.24235952, -0.7973626 , -0.08953483],\n",
            "       [-0.85091585,  0.6982824 , -0.06523243,  0.6342548 ],\n",
            "       [-0.19083972,  0.07740795, -0.19063504, -0.7763498 ]],\n",
            "      dtype=float32), array([-0.02707575, -0.00400882, -0.0162979 , -0.02148942], dtype=float32), array([[ 0.17045295,  0.6123086 , -0.1543177 ,  0.63534695],\n",
            "       [-0.7439016 ,  0.8011985 , -0.7075579 ,  0.54801106],\n",
            "       [ 0.07376992,  0.4194331 , -0.2918116 ,  0.30847666],\n",
            "       [-0.08336265,  0.7090991 , -0.64501387,  0.43940932]],\n",
            "      dtype=float32), array([-0.14968559, -0.03947799,  0.02710839, -0.09683222], dtype=float32), array([[-0.838064  , -0.62752306],\n",
            "       [-0.2362459 ,  0.23251641],\n",
            "       [ 0.67820466,  0.06832466],\n",
            "       [ 0.0262967 , -0.70459276]], dtype=float32), array([0.30684945, 0.37874472], dtype=float32)]\n",
            "Loss: 0.24944651126861572\n",
            "Accuracy: 0.7799999713897705\n",
            "----------------------------------------------------------------------\n",
            "Epoch 2\n",
            "Weights: [array([[-0.2312533 ,  0.24235952, -0.7973626 , -0.08953483],\n",
            "       [-0.85091585,  0.6982824 , -0.06523243,  0.6342548 ],\n",
            "       [-0.19083972,  0.07740795, -0.19063504, -0.7763498 ]],\n",
            "      dtype=float32), array([-0.02707575, -0.00400882, -0.0162979 , -0.02148942], dtype=float32), array([[ 0.17045295,  0.6123086 , -0.1543177 ,  0.63534695],\n",
            "       [-0.7439016 ,  0.8011985 , -0.7075579 ,  0.54801106],\n",
            "       [ 0.07376992,  0.4194331 , -0.2918116 ,  0.30847666],\n",
            "       [-0.08336265,  0.7090991 , -0.64501387,  0.43940932]],\n",
            "      dtype=float32), array([-0.14968559, -0.03947799,  0.02710839, -0.09683222], dtype=float32), array([[-0.838064  , -0.62752306],\n",
            "       [-0.2362459 ,  0.23251641],\n",
            "       [ 0.67820466,  0.06832466],\n",
            "       [ 0.0262967 , -0.70459276]], dtype=float32), array([0.30684945, 0.37874472], dtype=float32)]\n",
            "Loss: 0.24935920536518097\n",
            "Accuracy: 0.7799999713897705\n",
            "----------------------------------------------------------------------\n",
            "Epoch 3\n",
            "Weights: [array([[-0.2312533 ,  0.24235952, -0.7973626 , -0.08953483],\n",
            "       [-0.85091585,  0.6982824 , -0.06523243,  0.6342548 ],\n",
            "       [-0.19083972,  0.07740795, -0.19063504, -0.7763498 ]],\n",
            "      dtype=float32), array([-0.02707575, -0.00400882, -0.0162979 , -0.02148942], dtype=float32), array([[ 0.17045295,  0.6123086 , -0.1543177 ,  0.63534695],\n",
            "       [-0.7439016 ,  0.8011985 , -0.7075579 ,  0.54801106],\n",
            "       [ 0.07376992,  0.4194331 , -0.2918116 ,  0.30847666],\n",
            "       [-0.08336265,  0.7090991 , -0.64501387,  0.43940932]],\n",
            "      dtype=float32), array([-0.14968559, -0.03947799,  0.02710839, -0.09683222], dtype=float32), array([[-0.838064  , -0.62752306],\n",
            "       [-0.2362459 ,  0.23251641],\n",
            "       [ 0.67820466,  0.06832466],\n",
            "       [ 0.0262967 , -0.70459276]], dtype=float32), array([0.30684945, 0.37874472], dtype=float32)]\n",
            "Loss: 0.24927134811878204\n",
            "Accuracy: 0.7799999713897705\n",
            "----------------------------------------------------------------------\n",
            "Epoch 4\n",
            "Weights: [array([[-0.2312533 ,  0.24235952, -0.7973626 , -0.08953483],\n",
            "       [-0.85091585,  0.6982824 , -0.06523243,  0.6342548 ],\n",
            "       [-0.19083972,  0.07740795, -0.19063504, -0.7763498 ]],\n",
            "      dtype=float32), array([-0.02707575, -0.00400882, -0.0162979 , -0.02148942], dtype=float32), array([[ 0.17045295,  0.6123086 , -0.1543177 ,  0.63534695],\n",
            "       [-0.7439016 ,  0.8011985 , -0.7075579 ,  0.54801106],\n",
            "       [ 0.07376992,  0.4194331 , -0.2918116 ,  0.30847666],\n",
            "       [-0.08336265,  0.7090991 , -0.64501387,  0.43940932]],\n",
            "      dtype=float32), array([-0.14968559, -0.03947799,  0.02710839, -0.09683222], dtype=float32), array([[-0.838064  , -0.62752306],\n",
            "       [-0.2362459 ,  0.23251641],\n",
            "       [ 0.67820466,  0.06832466],\n",
            "       [ 0.0262967 , -0.70459276]], dtype=float32), array([0.30684945, 0.37874472], dtype=float32)]\n",
            "Loss: 0.24920183420181274\n",
            "Accuracy: 0.7799999713897705\n",
            "----------------------------------------------------------------------\n",
            "Epoch 5\n",
            "Weights: [array([[-0.2312533 ,  0.24235952, -0.7973626 , -0.08953483],\n",
            "       [-0.85091585,  0.6982824 , -0.06523243,  0.6342548 ],\n",
            "       [-0.19083972,  0.07740795, -0.19063504, -0.7763498 ]],\n",
            "      dtype=float32), array([-0.02707575, -0.00400882, -0.0162979 , -0.02148942], dtype=float32), array([[ 0.17045295,  0.6123086 , -0.1543177 ,  0.63534695],\n",
            "       [-0.7439016 ,  0.8011985 , -0.7075579 ,  0.54801106],\n",
            "       [ 0.07376992,  0.4194331 , -0.2918116 ,  0.30847666],\n",
            "       [-0.08336265,  0.7090991 , -0.64501387,  0.43940932]],\n",
            "      dtype=float32), array([-0.14968559, -0.03947799,  0.02710839, -0.09683222], dtype=float32), array([[-0.838064  , -0.62752306],\n",
            "       [-0.2362459 ,  0.23251641],\n",
            "       [ 0.67820466,  0.06832466],\n",
            "       [ 0.0262967 , -0.70459276]], dtype=float32), array([0.30684945, 0.37874472], dtype=float32)]\n",
            "Loss: 0.24921783804893494\n",
            "Accuracy: 0.7799999713897705\n",
            "----------------------------------------------------------------------\n",
            "Epoch 6\n",
            "Weights: [array([[-0.2312533 ,  0.24235952, -0.7973626 , -0.08953483],\n",
            "       [-0.85091585,  0.6982824 , -0.06523243,  0.6342548 ],\n",
            "       [-0.19083972,  0.07740795, -0.19063504, -0.7763498 ]],\n",
            "      dtype=float32), array([-0.02707575, -0.00400882, -0.0162979 , -0.02148942], dtype=float32), array([[ 0.17045295,  0.6123086 , -0.1543177 ,  0.63534695],\n",
            "       [-0.7439016 ,  0.8011985 , -0.7075579 ,  0.54801106],\n",
            "       [ 0.07376992,  0.4194331 , -0.2918116 ,  0.30847666],\n",
            "       [-0.08336265,  0.7090991 , -0.64501387,  0.43940932]],\n",
            "      dtype=float32), array([-0.14968559, -0.03947799,  0.02710839, -0.09683222], dtype=float32), array([[-0.838064  , -0.62752306],\n",
            "       [-0.2362459 ,  0.23251641],\n",
            "       [ 0.67820466,  0.06832466],\n",
            "       [ 0.0262967 , -0.70459276]], dtype=float32), array([0.30684945, 0.37874472], dtype=float32)]\n",
            "Loss: 0.24927015602588654\n",
            "Accuracy: 0.7799999713897705\n",
            "----------------------------------------------------------------------\n",
            "Epoch 7\n",
            "Weights: [array([[-0.2312533 ,  0.24235952, -0.7973626 , -0.08953483],\n",
            "       [-0.85091585,  0.6982824 , -0.06523243,  0.6342548 ],\n",
            "       [-0.19083972,  0.07740795, -0.19063504, -0.7763498 ]],\n",
            "      dtype=float32), array([-0.02707575, -0.00400882, -0.0162979 , -0.02148942], dtype=float32), array([[ 0.17045295,  0.6123086 , -0.1543177 ,  0.63534695],\n",
            "       [-0.7439016 ,  0.8011985 , -0.7075579 ,  0.54801106],\n",
            "       [ 0.07376992,  0.4194331 , -0.2918116 ,  0.30847666],\n",
            "       [-0.08336265,  0.7090991 , -0.64501387,  0.43940932]],\n",
            "      dtype=float32), array([-0.14968559, -0.03947799,  0.02710839, -0.09683222], dtype=float32), array([[-0.838064  , -0.62752306],\n",
            "       [-0.2362459 ,  0.23251641],\n",
            "       [ 0.67820466,  0.06832466],\n",
            "       [ 0.0262967 , -0.70459276]], dtype=float32), array([0.30684945, 0.37874472], dtype=float32)]\n",
            "Loss: 0.24921607971191406\n",
            "Accuracy: 0.7799999713897705\n",
            "----------------------------------------------------------------------\n",
            "Epoch 8\n",
            "Weights: [array([[-0.2312533 ,  0.24235952, -0.7973626 , -0.08953483],\n",
            "       [-0.85091585,  0.6982824 , -0.06523243,  0.6342548 ],\n",
            "       [-0.19083972,  0.07740795, -0.19063504, -0.7763498 ]],\n",
            "      dtype=float32), array([-0.02707575, -0.00400882, -0.0162979 , -0.02148942], dtype=float32), array([[ 0.17045295,  0.6123086 , -0.1543177 ,  0.63534695],\n",
            "       [-0.7439016 ,  0.8011985 , -0.7075579 ,  0.54801106],\n",
            "       [ 0.07376992,  0.4194331 , -0.2918116 ,  0.30847666],\n",
            "       [-0.08336265,  0.7090991 , -0.64501387,  0.43940932]],\n",
            "      dtype=float32), array([-0.14968559, -0.03947799,  0.02710839, -0.09683222], dtype=float32), array([[-0.838064  , -0.62752306],\n",
            "       [-0.2362459 ,  0.23251641],\n",
            "       [ 0.67820466,  0.06832466],\n",
            "       [ 0.0262967 , -0.70459276]], dtype=float32), array([0.30684945, 0.37874472], dtype=float32)]\n",
            "Loss: 0.24913068115711212\n",
            "Accuracy: 0.7799999713897705\n",
            "----------------------------------------------------------------------\n",
            "Epoch 9\n",
            "Weights: [array([[-0.2312533 ,  0.24235952, -0.7973626 , -0.08953483],\n",
            "       [-0.85091585,  0.6982824 , -0.06523243,  0.6342548 ],\n",
            "       [-0.19083972,  0.07740795, -0.19063504, -0.7763498 ]],\n",
            "      dtype=float32), array([-0.02707575, -0.00400882, -0.0162979 , -0.02148942], dtype=float32), array([[ 0.17045295,  0.6123086 , -0.1543177 ,  0.63534695],\n",
            "       [-0.7439016 ,  0.8011985 , -0.7075579 ,  0.54801106],\n",
            "       [ 0.07376992,  0.4194331 , -0.2918116 ,  0.30847666],\n",
            "       [-0.08336265,  0.7090991 , -0.64501387,  0.43940932]],\n",
            "      dtype=float32), array([-0.14968559, -0.03947799,  0.02710839, -0.09683222], dtype=float32), array([[-0.838064  , -0.62752306],\n",
            "       [-0.2362459 ,  0.23251641],\n",
            "       [ 0.67820466,  0.06832466],\n",
            "       [ 0.0262967 , -0.70459276]], dtype=float32), array([0.30684945, 0.37874472], dtype=float32)]\n",
            "Loss: 0.24923397600650787\n",
            "Accuracy: 0.7799999713897705\n",
            "----------------------------------------------------------------------\n",
            "Epoch 10\n",
            "Weights: [array([[-0.2312533 ,  0.24235952, -0.7973626 , -0.08953483],\n",
            "       [-0.85091585,  0.6982824 , -0.06523243,  0.6342548 ],\n",
            "       [-0.19083972,  0.07740795, -0.19063504, -0.7763498 ]],\n",
            "      dtype=float32), array([-0.02707575, -0.00400882, -0.0162979 , -0.02148942], dtype=float32), array([[ 0.17045295,  0.6123086 , -0.1543177 ,  0.63534695],\n",
            "       [-0.7439016 ,  0.8011985 , -0.7075579 ,  0.54801106],\n",
            "       [ 0.07376992,  0.4194331 , -0.2918116 ,  0.30847666],\n",
            "       [-0.08336265,  0.7090991 , -0.64501387,  0.43940932]],\n",
            "      dtype=float32), array([-0.14968559, -0.03947799,  0.02710839, -0.09683222], dtype=float32), array([[-0.838064  , -0.62752306],\n",
            "       [-0.2362459 ,  0.23251641],\n",
            "       [ 0.67820466,  0.06832466],\n",
            "       [ 0.0262967 , -0.70459276]], dtype=float32), array([0.30684945, 0.37874472], dtype=float32)]\n",
            "Loss: 0.24907924234867096\n",
            "Accuracy: 0.7799999713897705\n",
            "----------------------------------------------------------------------\n",
            " ===========================================================\n",
            "\n"
          ]
        },
        {
          "output_type": "display_data",
          "data": {
            "text/plain": [
              "<Figure size 640x480 with 1 Axes>"
            ],
            "image/png": "[encoded data removed]"
          },
          "metadata": {}
        }
      ]
    },
    {
      "cell_type": "markdown",
      "source": [
        "#### Inference\n",
        "\n",
        "The learning rate controls how much the model's weights are updated during training. It is a hyperparameter that determines the step size at each iteration while moving toward a minimum of the loss function.\n",
        "\n",
        "-> **A higher learning rate** (e.g., 0.1) means larger updates to the weights, which can lead to faster convergence but may also cause instability or overshooting.\n",
        "\n",
        "-> **A lower learning rate** (e.g., 0.01) means smaller updates to the weights, which can lead to slower but more stable convergence.\n",
        "\n",
        "\n",
        "\n",
        "### Learning Rate =0.1\n",
        "Loss: 0.25069424510002136\n",
        "Accuracy: 0.7799999713897705\n",
        "\n",
        "### Learning Rate =0.01\n",
        "Loss: 0.24922332167625427\n",
        "Accuracy: 0.7799999713897705\n",
        "\n",
        "Since the model is a simple one with smaller dataset we can prefer to use 0.01 as Learning Rate as it provides a stable convergence and at the end Loss is less for it"
      ],
      "metadata": {
        "id": "kCNbe-PXviJw"
      }
    },
    {
      "cell_type": "markdown",
      "source": [
        "\n",
        "\n",
        "\n",
        "> Add blockquote\n",
        "\n",
        "\n",
        "> Add blockquote\n",
        "\n"
      ],
      "metadata": {
        "id": "_-MhGRFXpjAZ"
      }
    },
    {
      "cell_type": "markdown",
      "source": [
        "### Q3.In the MLP implementation described in Question No:1, use binary cross entropy (BCE) loss instead of MSE. Display the loss and accuracy for MSE and BCE. Explain and justify your observation with loss and accuracy values.\n"
      ],
      "metadata": {
        "id": "G3qFVUUfxIl9"
      }
    },
    {
      "cell_type": "code",
      "source": [
        "# BCE loss\n",
        "model.compile(optimizer=optimizer, loss='binary_crossentropy', metrics=['accuracy'])\n",
        "\n",
        "log_bce = model.fit(X, y, epochs=10, batch_size=10, verbose=1)\n",
        "\n",
        "for epoch in range(10):\n",
        "    print(\"Epoch\",epoch+1)\n",
        "    print(\"BCE Loss:\", log_bce.history['loss'][epoch])\n",
        "    print(\"Accuracy:\", log_bce.history['accuracy'][epoch])\n",
        "\n",
        "# MSE loss\n",
        "model.compile(optimizer=optimizer, loss='mse', metrics=['accuracy'])\n",
        "log_mse = model.fit(X, y, epochs=10, batch_size=10, verbose=1)\n",
        "\n",
        "# Display loss and accuracy for MSE\n",
        "for epoch in range(10):\n",
        "    print(f\"Epoch {epoch+1}\")\n",
        "    print(\"MSE Loss:\", log_mse.history['loss'][epoch])\n",
        "    print(\"Accuracy:\", log_mse.history['accuracy'][epoch])\n",
        "\n",
        "#Display in graph\n",
        "\n",
        "plt.plot(log_bce.history['loss'],label=\"BCE\")\n",
        "plt.plot(log_mse.history['loss'],label=\"MSE\")\n",
        "plt.title(\"Loss comparison\")\n",
        "plt.xlabel('Epochs')\n",
        "plt.ylabel('Loss')\n",
        "plt.legend()\n",
        "plt.show()\n",
        "\n",
        "\n",
        "plt.plot(log_bce.history['accuracy'],label=\"BCE\")\n",
        "plt.plot(log_mse.history['accuracy'],label=\"MSE\")\n",
        "plt.title(\"Accuracy comparison\")\n",
        "plt.xlabel('Epochs')\n",
        "plt.ylabel('Accuracy')\n",
        "plt.legend()\n",
        "plt.show()"
      ],
      "metadata": {
        "colab": {
          "base_uri": "https://localhost:8080/",
          "height": 1000
        },
        "id": "eQOc6JXou7F3",
        "outputId": "9ac42385-a912-46d4-ff28-292c054d3e06"
      },
      "execution_count": 9,
      "outputs": [
        {
          "output_type": "stream",
          "name": "stdout",
          "text": [
            "Epoch 1/10\n",
            "\u001b[1m10/10\u001b[0m \u001b[32m━━━━━━━━━━━━━━━━━━━━\u001b[0m\u001b[37m\u001b[0m \u001b[1m1s\u001b[0m 4ms/step - accuracy: 0.7588 - loss: 0.6942  \n",
            "Epoch 2/10\n",
            "\u001b[1m10/10\u001b[0m \u001b[32m━━━━━━━━━━━━━━━━━━━━\u001b[0m\u001b[37m\u001b[0m \u001b[1m0s\u001b[0m 4ms/step - accuracy: 0.7896 - loss: 0.6919  \n",
            "Epoch 3/10\n",
            "\u001b[1m10/10\u001b[0m \u001b[32m━━━━━━━━━━━━━━━━━━━━\u001b[0m\u001b[37m\u001b[0m \u001b[1m0s\u001b[0m 4ms/step - accuracy: 0.7882 - loss: 0.6913 \n",
            "Epoch 4/10\n",
            "\u001b[1m10/10\u001b[0m \u001b[32m━━━━━━━━━━━━━━━━━━━━\u001b[0m\u001b[37m\u001b[0m \u001b[1m0s\u001b[0m 4ms/step - accuracy: 0.7992 - loss: 0.6915 \n",
            "Epoch 5/10\n",
            "\u001b[1m10/10\u001b[0m \u001b[32m━━━━━━━━━━━━━━━━━━━━\u001b[0m\u001b[37m\u001b[0m \u001b[1m0s\u001b[0m 4ms/step - accuracy: 0.8304 - loss: 0.6860 \n",
            "Epoch 6/10\n",
            "\u001b[1m10/10\u001b[0m \u001b[32m━━━━━━━━━━━━━━━━━━━━\u001b[0m\u001b[37m\u001b[0m \u001b[1m0s\u001b[0m 4ms/step - accuracy: 0.7434 - loss: 0.6960 \n",
            "Epoch 7/10\n",
            "\u001b[1m10/10\u001b[0m \u001b[32m━━━━━━━━━━━━━━━━━━━━\u001b[0m\u001b[37m\u001b[0m \u001b[1m0s\u001b[0m 4ms/step - accuracy: 0.7756 - loss: 0.6922 \n",
            "Epoch 8/10\n",
            "\u001b[1m10/10\u001b[0m \u001b[32m━━━━━━━━━━━━━━━━━━━━\u001b[0m\u001b[37m\u001b[0m \u001b[1m0s\u001b[0m 5ms/step - accuracy: 0.7922 - loss: 0.6898  \n",
            "Epoch 9/10\n",
            "\u001b[1m10/10\u001b[0m \u001b[32m━━━━━━━━━━━━━━━━━━━━\u001b[0m\u001b[37m\u001b[0m \u001b[1m0s\u001b[0m 4ms/step - accuracy: 0.7747 - loss: 0.6938 \n",
            "Epoch 10/10\n",
            "\u001b[1m10/10\u001b[0m \u001b[32m━━━━━━━━━━━━━━━━━━━━\u001b[0m\u001b[37m\u001b[0m \u001b[1m0s\u001b[0m 5ms/step - accuracy: 0.8148 - loss: 0.6902  \n",
            "Epoch 1\n",
            "BCE Loss: 0.6913793683052063\n",
            "Accuracy: 0.7799999713897705\n",
            "Epoch 2\n",
            "BCE Loss: 0.6912070512771606\n",
            "Accuracy: 0.7799999713897705\n",
            "Epoch 3\n",
            "BCE Loss: 0.6916996836662292\n",
            "Accuracy: 0.7799999713897705\n",
            "Epoch 4\n",
            "BCE Loss: 0.6912879347801208\n",
            "Accuracy: 0.7799999713897705\n",
            "Epoch 5\n",
            "BCE Loss: 0.691494345664978\n",
            "Accuracy: 0.7799999713897705\n",
            "Epoch 6\n",
            "BCE Loss: 0.6914942264556885\n",
            "Accuracy: 0.7799999713897705\n",
            "Epoch 7\n",
            "BCE Loss: 0.6912703514099121\n",
            "Accuracy: 0.7799999713897705\n",
            "Epoch 8\n",
            "BCE Loss: 0.6913989186286926\n",
            "Accuracy: 0.7799999713897705\n",
            "Epoch 9\n",
            "BCE Loss: 0.6914371252059937\n",
            "Accuracy: 0.7799999713897705\n",
            "Epoch 10\n",
            "BCE Loss: 0.6913906931877136\n",
            "Accuracy: 0.7799999713897705\n",
            "Epoch 1/10\n",
            "\u001b[1m10/10\u001b[0m \u001b[32m━━━━━━━━━━━━━━━━━━━━\u001b[0m\u001b[37m\u001b[0m \u001b[1m1s\u001b[0m 6ms/step - accuracy: 0.7466 - loss: 0.2506  \n",
            "Epoch 2/10\n",
            "\u001b[1m10/10\u001b[0m \u001b[32m━━━━━━━━━━━━━━━━━━━━\u001b[0m\u001b[37m\u001b[0m \u001b[1m0s\u001b[0m 6ms/step - accuracy: 0.8251 - loss: 0.2475 \n",
            "Epoch 3/10\n",
            "\u001b[1m10/10\u001b[0m \u001b[32m━━━━━━━━━━━━━━━━━━━━\u001b[0m\u001b[37m\u001b[0m \u001b[1m0s\u001b[0m 6ms/step - accuracy: 0.7192 - loss: 0.2521 \n",
            "Epoch 4/10\n",
            "\u001b[1m10/10\u001b[0m \u001b[32m━━━━━━━━━━━━━━━━━━━━\u001b[0m\u001b[37m\u001b[0m \u001b[1m0s\u001b[0m 6ms/step - accuracy: 0.7916 - loss: 0.2477 \n",
            "Epoch 5/10\n",
            "\u001b[1m10/10\u001b[0m \u001b[32m━━━━━━━━━━━━━━━━━━━━\u001b[0m\u001b[37m\u001b[0m \u001b[1m0s\u001b[0m 5ms/step - accuracy: 0.7833 - loss: 0.2492 \n",
            "Epoch 6/10\n",
            "\u001b[1m10/10\u001b[0m \u001b[32m━━━━━━━━━━━━━━━━━━━━\u001b[0m\u001b[37m\u001b[0m \u001b[1m0s\u001b[0m 5ms/step - accuracy: 0.7918 - loss: 0.2485 \n",
            "Epoch 7/10\n",
            "\u001b[1m10/10\u001b[0m \u001b[32m━━━━━━━━━━━━━━━━━━━━\u001b[0m\u001b[37m\u001b[0m \u001b[1m0s\u001b[0m 6ms/step - accuracy: 0.7506 - loss: 0.2502 \n",
            "Epoch 8/10\n",
            "\u001b[1m10/10\u001b[0m \u001b[32m━━━━━━━━━━━━━━━━━━━━\u001b[0m\u001b[37m\u001b[0m \u001b[1m0s\u001b[0m 7ms/step - accuracy: 0.8120 - loss: 0.2489 \n",
            "Epoch 9/10\n",
            "\u001b[1m10/10\u001b[0m \u001b[32m━━━━━━━━━━━━━━━━━━━━\u001b[0m\u001b[37m\u001b[0m \u001b[1m0s\u001b[0m 7ms/step - accuracy: 0.7765 - loss: 0.2495 \n",
            "Epoch 10/10\n",
            "\u001b[1m10/10\u001b[0m \u001b[32m━━━━━━━━━━━━━━━━━━━━\u001b[0m\u001b[37m\u001b[0m \u001b[1m0s\u001b[0m 6ms/step - accuracy: 0.8099 - loss: 0.2465 \n",
            "Epoch 1\n",
            "MSE Loss: 0.24908754229545593\n",
            "Accuracy: 0.7799999713897705\n",
            "Epoch 2\n",
            "MSE Loss: 0.24919961392879486\n",
            "Accuracy: 0.7799999713897705\n",
            "Epoch 3\n",
            "MSE Loss: 0.2491186559200287\n",
            "Accuracy: 0.7799999713897705\n",
            "Epoch 4\n",
            "MSE Loss: 0.2492373138666153\n",
            "Accuracy: 0.7799999713897705\n",
            "Epoch 5\n",
            "MSE Loss: 0.2490810751914978\n",
            "Accuracy: 0.7799999713897705\n",
            "Epoch 6\n",
            "MSE Loss: 0.24902471899986267\n",
            "Accuracy: 0.7799999713897705\n",
            "Epoch 7\n",
            "MSE Loss: 0.24908462166786194\n",
            "Accuracy: 0.7799999713897705\n",
            "Epoch 8\n",
            "MSE Loss: 0.24913649260997772\n",
            "Accuracy: 0.7799999713897705\n",
            "Epoch 9\n",
            "MSE Loss: 0.24906444549560547\n",
            "Accuracy: 0.7799999713897705\n",
            "Epoch 10\n",
            "MSE Loss: 0.24916765093803406\n",
            "Accuracy: 0.7799999713897705\n"
          ]
        },
        {
          "output_type": "display_data",
          "data": {
            "text/plain": [
              "<Figure size 640x480 with 1 Axes>"
            ],
            "image/png": "[encoded data removed]"
          },
          "metadata": {}
        },
        {
          "output_type": "display_data",
          "data": {
            "text/plain": [
              "<Figure size 640x480 with 1 Axes>"
            ],
            "image/png": "[encoded data removed]"
          },
          "metadata": {}
        }
      ]
    },
    {
      "cell_type": "markdown",
      "source": [
        "#### Inference\n",
        "\n",
        "Here Even if Accuracy of both turns out to be same , For binary classification it is prefered to use Binary Cross Entropy loss rather than MSE because MSE is used for continuous values(Regression) , where for classifications like o/p is 0,1 it is better to use BCE as it gives a better loss value for wrong predictions\n",
        "\n",
        "**EXAMPLE**\n",
        "\n",
        "Scenario:\n",
        "True label : 1\n",
        "\n",
        "Model prediction : 0.1 (incorrect prediction with low confidence)\n",
        "\n",
        "\n",
        "MSE = (1−0.1)\n",
        "2\n",
        "  = 0.81\n",
        "\n",
        "\n",
        "BCE=−[1⋅log(0.1)+(1−1)⋅log(1−0.1)]=−log(0.1) ≈ 2.302\n",
        "\n",
        "\n",
        "This is the reason why BCE having higher loss value that MSE and is more prefered for this task\n"
      ],
      "metadata": {
        "id": "YzYetPCP2yzj"
      }
    },
    {
      "cell_type": "code",
      "source": [],
      "metadata": {
        "id": "aqB8RBUb2xeb"
      },
      "execution_count": null,
      "outputs": []
    },
    {
      "cell_type": "markdown",
      "source": [],
      "metadata": {
        "id": "X4umusqg-c6t"
      }
    },
    {
      "cell_type": "markdown",
      "source": [
        "### Q4. Given a csv file for predicting the house prices. Split the dataset as train and validation set in the ratio 80:20.\n",
        "\n",
        "a) Train a linear regression model. Compute the MSE loss on validation data. Print the feature coefficient names and their values.\n",
        "\n",
        "b) Train the model applying L1 (Lasso) Regularization. Compute the MSE loss on validation data. Print the feature coefficient names and their values.\n",
        "\n",
        "c) Train the model applying L2 (Ridge) Regularization. Compute the MSE loss on validation data. Print the feature coefficient names and their values.\n",
        "\n",
        "Explain and justify the feature coefficient values you observe for each model.\n"
      ],
      "metadata": {
        "id": "Sh9gAmCvpK1l"
      }
    },
    {
      "cell_type": "code",
      "source": [
        "import pandas as pd\n",
        "from sklearn.model_selection import train_test_split\n",
        "from sklearn.linear_model import LinearRegression, Lasso, Ridge\n",
        "from sklearn.metrics import mean_squared_error\n",
        "\n",
        "\n",
        "url = \"sample_data/BostonHousing.csv\"\n",
        "data = pd.read_csv(url)\n",
        "\n",
        "\n",
        "X = data.drop('medv', axis=1)\n",
        "y = data['medv']\n",
        "\n",
        "\n",
        "X_train, X_test, y_train, y_test = train_test_split(X, y, test_size=0.2, random_state=42)\n",
        "\n",
        "#Linear Regression\n",
        "lr = LinearRegression()\n",
        "lr.fit(X_train, y_train)\n",
        "y_pred = lr.predict(X_test)\n",
        "print(\"Linear Regression MSE:\", mean_squared_error(y_test, y_pred))\n",
        "print(\"Feature Coefficients:\", dict(zip(X.columns, lr.coef_)))\n",
        "print()\n",
        "#Lasso Regression (L1 Regularization)\n",
        "lasso = Lasso(alpha=1.0)\n",
        "lasso.fit(X_train, y_train)\n",
        "y_pred = lasso.predict(X_test)\n",
        "print(\"Lasso Regression MSE:\", mean_squared_error(y_test, y_pred))\n",
        "print(\"Feature Coefficients:\", dict(zip(X.columns, lasso.coef_)))\n",
        "print()\n",
        "#Ridge Regression (L2 Regularization)\n",
        "ridge = Ridge(alpha=1.0)\n",
        "ridge.fit(X_train, y_train)\n",
        "y_pred = ridge.predict(X_test)\n",
        "print(\"Ridge Regression MSE:\", mean_squared_error(y_test, y_pred))\n",
        "print(\"Feature Coefficients:\", dict(zip(X.columns, ridge.coef_)))"
      ],
      "metadata": {
        "colab": {
          "base_uri": "https://localhost:8080/"
        },
        "id": "s3yLYkfSyLif",
        "outputId": "0fb9f54d-4d77-4722-e67e-34b5dcbd28b8"
      },
      "execution_count": 2,
      "outputs": [
        {
          "output_type": "stream",
          "name": "stdout",
          "text": [
            "Linear Regression MSE: 24.291119474973478\n",
            "Feature Coefficients: {'crim': -0.11305592398537989, 'zn': 0.030110464145648292, 'indus': 0.04038072041333043, 'chas': 2.7844382035079276, 'nox': -17.202633391781117, 'rm': 4.43883519951305, 'age': -0.006296362210980761, 'dis': -1.447865368530786, 'rad': 0.26242973558509075, 'tax': -0.010646786275308524, 'ptratio': -0.915456240468073, 'b': 0.012351334729969077, 'lstat': -0.5085714244487918}\n",
            "\n",
            "Lasso Regression MSE: 24.409489761299707\n",
            "Feature Coefficients: {'crim': -0.07660926975110098, 'zn': 0.02850063540200873, 'indus': -0.0, 'chas': 0.0, 'nox': -0.0, 'rm': 1.6304889213333733, 'age': 0.016394775352896185, 'dis': -0.630857653109882, 'rad': 0.21965363036622984, 'tax': -0.01228557821359632, 'ptratio': -0.708582332501208, 'b': 0.011181101933252426, 'lstat': -0.7471066114528753}\n",
            "\n",
            "Ridge Regression MSE: 24.477191227708644\n",
            "Feature Coefficients: {'crim': -0.10923406107683856, 'zn': 0.03227068627331457, 'indus': 0.007498059418199492, 'chas': 2.545469981972352, 'nox': -9.537951588455789, 'rm': 4.464505368775927, 'age': -0.012191017615920976, 'dis': -1.338700395556108, 'rad': 0.2488818162236821, 'tax': -0.011474621094828824, 'ptratio': -0.8286042836530543, 'b': 0.012642112364578791, 'lstat': -0.5238330160387951}\n"
          ]
        }
      ]
    },
    {
      "cell_type": "markdown",
      "source": [
        "#### Inference:\n",
        "\n",
        "Lasso (L1) tends to shrink some coefficients to zero, effectively performing feature selection.\n",
        "\n",
        "Ridge (L2) shrinks coefficients but does not set them to zero, preserving all features.\n",
        "\n",
        "\n",
        "\n",
        "When using lasso and Ridge ,\n",
        "We are adding a penalty to loss function this means that loss function will be larger and some of weights become zero or very low value by doing this we are preventing overfitting\n",
        "\n",
        "**We can observe that the feature coefficient values are very less as compared to Simple Linear Regression**\n",
        "\n",
        "In Lasso , Some coefs are Zero , this is done by adding penalty and preventing overfitting"
      ],
      "metadata": {
        "id": "dx5YLqk2pXVp"
      }
    },
    {
      "cell_type": "code",
      "source": [],
      "metadata": {
        "id": "fyzlkXpz-eJk"
      },
      "execution_count": null,
      "outputs": []
    },
    {
      "cell_type": "markdown",
      "source": [],
      "metadata": {
        "id": "nqzDjp-Qr67S"
      }
    },
    {
      "cell_type": "markdown",
      "source": [
        "### Q5. Implement an MLP with 3 inputs, 2 hidden layers with 8 neurons each and an output layer is scalar. ReLU activation used in hidden layers and sigmoid used in the output layer. Use adam optimizer and binary cross entropy loss. Use three parameter initialization methods like Xavier, He, Normal, Display the loss and accuracy values for each method."
      ],
      "metadata": {
        "id": "8gxEqtl5pGoY"
      }
    },
    {
      "cell_type": "code",
      "source": [
        "import tensorflow.keras as tf\n",
        "import numpy as np\n",
        "\n",
        "np.random.seed(40)\n",
        "X=np.random.rand(100,3)\n",
        "y=np.random.randint(0,1,size=(100,1))\n",
        "\n",
        "initializers = {\n",
        "    'Xavier': tf.initializers.GlorotUniform(),\n",
        "    'He': tf.initializers.HeUniform(),\n",
        "    'Normal': tf.initializers.RandomNormal()\n",
        "}\n",
        "\n",
        "for name, initializer in initializers.items():\n",
        "    print(f\"\\nTraining with {name} Initialization\")\n",
        "    model = tf.Sequential([\n",
        "        tf.layers.Dense(8, input_shape=(3,), activation='relu', kernel_initializer=initializer),\n",
        "        tf.layers.Dense(8, activation='relu', kernel_initializer=initializer),\n",
        "        tf.layers.Dense(1, activation='sigmoid', kernel_initializer=initializer)\n",
        "    ])\n",
        "    model.compile(optimizer='adam', loss='binary_crossentropy', metrics=['accuracy'])\n",
        "    history = model.fit(X, y, epochs=10, batch_size=10, verbose=0)\n",
        "    print(f\"{name} Loss:\", history.history['loss'][-1])\n",
        "    print(f\"{name} Accuracy:\", history.history['accuracy'][-1])"
      ],
      "metadata": {
        "colab": {
          "base_uri": "https://localhost:8080/"
        },
        "id": "PFZ0dts7pFiw",
        "outputId": "2a851f96-4379-4ea5-e843-521b9b35e2ff"
      },
      "execution_count": 5,
      "outputs": [
        {
          "output_type": "stream",
          "name": "stdout",
          "text": [
            "\n",
            "Training with Xavier Initialization\n"
          ]
        },
        {
          "output_type": "stream",
          "name": "stderr",
          "text": [
            "/usr/local/lib/python3.11/dist-packages/keras/src/layers/core/dense.py:87: UserWarning: Do not pass an `input_shape`/`input_dim` argument to a layer. When using Sequential models, prefer using an `Input(shape)` object as the first layer in the model instead.\n",
            "  super().__init__(activity_regularizer=activity_regularizer, **kwargs)\n"
          ]
        },
        {
          "output_type": "stream",
          "name": "stdout",
          "text": [
            "Xavier Loss: 0.2856416404247284\n",
            "Xavier Accuracy: 1.0\n",
            "\n",
            "Training with He Initialization\n",
            "He Loss: 0.21220260858535767\n",
            "He Accuracy: 1.0\n",
            "\n",
            "Training with Normal Initialization\n",
            "Normal Loss: 0.5973095297813416\n",
            "Normal Accuracy: 1.0\n"
          ]
        }
      ]
    },
    {
      "cell_type": "markdown",
      "source": [
        "### Inference\n",
        "\n",
        "Xavier and He initializations are designed for deep networks and often perform better than normal initialization.\n",
        "\n",
        "Normal initialization may lead to slower convergence or poor performance.\n",
        "\n",
        "Xavier Loss : 0.28\n",
        "He Loss     : 0.21\n",
        "Normal Loss : 0.59\n",
        "\n",
        "1. Xavier (Glorot) Initialization\n",
        "Purpose: Designed to keep the variance of activations consistent across layers, especially for sigmoid and tanh activation functions.\n",
        "\n",
        "2. He Initialization\n",
        "Purpose: Designed for ReLU and its variants (e.g., Leaky ReLU). It accounts for the fact that ReLU sets half of the activations to zero, so it scales the weights to maintain variance.\n",
        "\n",
        "3. Normal Initialization\n",
        "Purpose: Initializes weights randomly from a normal (Gaussian) distribution with a mean of 0 and a small standard deviation.\n",
        "\n",
        "\n",
        "Since here we are using 2 hidden layers with relu activation , it is ideal to use He initialization and it is having smallest Loss\n",
        "\n",
        "For the output layer we can use Xavier since it is using sigmoid activation"
      ],
      "metadata": {
        "id": "qdL0eYeJYf1M"
      }
    },
    {
      "cell_type": "code",
      "source": [],
      "metadata": {
        "id": "gPKmtHFAt_SR"
      },
      "execution_count": null,
      "outputs": []
    }
  ]
}